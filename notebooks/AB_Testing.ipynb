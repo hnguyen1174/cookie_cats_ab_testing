{
 "metadata": {
  "language_info": {
   "codemirror_mode": {
    "name": "ipython",
    "version": 3
   },
   "file_extension": ".py",
   "mimetype": "text/x-python",
   "name": "python",
   "nbconvert_exporter": "python",
   "pygments_lexer": "ipython3",
   "version": "3.8.5"
  },
  "orig_nbformat": 4,
  "kernelspec": {
   "name": "python3",
   "display_name": "Python 3.8.5 64-bit ('sl_app': conda)"
  },
  "interpreter": {
   "hash": "c39c68d2d99d6a322cc5c31ab1dc01f06f71c507fce640c516f946e627105528"
  }
 },
 "nbformat": 4,
 "nbformat_minor": 2,
 "cells": [
  {
   "source": [
    "### 1. Loading Libraries"
   ],
   "cell_type": "markdown",
   "metadata": {}
  },
  {
   "cell_type": "code",
   "execution_count": 1,
   "metadata": {},
   "outputs": [],
   "source": [
    "# Computation\n",
    "import numpy as np\n",
    "import pandas as pd \n",
    "\n",
    "# Visualization\n",
    "import seaborn as sns\n",
    "import matplotlib as mpl\n",
    "import matplotlib.pyplot as plt\n",
    "\n",
    "# Statistics\n",
    "from scipy.stats import shapiro\n",
    "import scipy.stats as stats\n",
    "\n",
    "# Utils\n",
    "import warnings\n",
    "import os\n",
    "\n",
    "%matplotlib inline"
   ]
  },
  {
   "cell_type": "code",
   "execution_count": 4,
   "metadata": {},
   "outputs": [],
   "source": [
    "# Packages\n",
    "from scipy.stats import shapiro\n",
    "import scipy.stats as stats"
   ]
  },
  {
   "cell_type": "code",
   "execution_count": 2,
   "metadata": {},
   "outputs": [],
   "source": [
    "mpl.style.use(\"fivethirtyeight\")"
   ]
  },
  {
   "source": [
    "### 2. Loading Data"
   ],
   "cell_type": "markdown",
   "metadata": {}
  },
  {
   "cell_type": "code",
   "execution_count": 19,
   "metadata": {},
   "outputs": [],
   "source": [
    "df = pd.read_csv('../data/final_df.csv')"
   ]
  },
  {
   "source": [
    "### 3. A/B Testing"
   ],
   "cell_type": "markdown",
   "metadata": {}
  },
  {
   "source": [
    "Assumptions:\n",
    "\n",
    "1. Check normality\n",
    "2. If Normal Distribution, check homogeneity"
   ],
   "cell_type": "markdown",
   "metadata": {}
  },
  {
   "source": [
    "Steps:\n",
    "\n",
    "1. Split & Define Control Group & Test Group\n",
    "2. Apply Shapiro Test for normality\n",
    "3. If parametric apply Levene Test for homogeneity of variances\n",
    "4. If Parametric + homogeneity of variances apply T-Test\n",
    "5. If Parametric - homogeneity of variances apply Welch Test\n",
    "6. If Non-parametric apply Mann Whitney U Test directly"
   ],
   "cell_type": "markdown",
   "metadata": {}
  },
  {
   "cell_type": "code",
   "execution_count": 22,
   "metadata": {},
   "outputs": [],
   "source": [
    "# Split A/B\n",
    "dataframe = df\n",
    "group = 'version'\n",
    "target = 'retention_1'\n",
    "\n",
    "groupA = dataframe[dataframe[group] == \"gate_30\"][target]\n",
    "groupB = dataframe[dataframe[group] == \"gate_40\"][target]"
   ]
  },
  {
   "cell_type": "code",
   "execution_count": 23,
   "metadata": {},
   "outputs": [
    {
     "output_type": "execute_result",
     "data": {
      "text/plain": [
       "((44699,), (45489,))"
      ]
     },
     "metadata": {},
     "execution_count": 23
    }
   ],
   "source": [
    "groupA.shape, groupB.shape"
   ]
  },
  {
   "source": [
    "#### Shapiro-Wilk Test for normality\n",
    "\n",
    "* `H_0`: The null hypothesis for this test is that the data are normally distributed.\n",
    "* `H_A`: The alternative hypothesis is that the data is **not** normally distributed.\n",
    "\n",
    "If the chosen alpha level is 0.05 and the p-value is less than 0.05, then the null hypothesis that the data are normally distributed is rejected. If the p-value is greater than 0.05, then the null hypothesis is not rejected.\n",
    "\n",
    "In our case, both groupA and groupB are **not** normally distributed as the p-values are both less than 0.05."
   ],
   "cell_type": "markdown",
   "metadata": {}
  },
  {
   "cell_type": "code",
   "execution_count": 26,
   "metadata": {},
   "outputs": [
    {
     "output_type": "stream",
     "name": "stderr",
     "text": [
      "/opt/anaconda3/envs/sl_app/lib/python3.8/site-packages/scipy/stats/morestats.py:1681: UserWarning: p-value may not be accurate for N > 5000.\n  warnings.warn(\"p-value may not be accurate for N > 5000.\")\n"
     ]
    },
    {
     "output_type": "execute_result",
     "data": {
      "text/plain": [
       "ShapiroResult(statistic=0.6324949264526367, pvalue=0.0)"
      ]
     },
     "metadata": {},
     "execution_count": 26
    }
   ],
   "source": [
    "shapiro(groupA)"
   ]
  },
  {
   "cell_type": "code",
   "execution_count": 27,
   "metadata": {},
   "outputs": [
    {
     "output_type": "stream",
     "name": "stderr",
     "text": [
      "/opt/anaconda3/envs/sl_app/lib/python3.8/site-packages/scipy/stats/morestats.py:1681: UserWarning: p-value may not be accurate for N > 5000.\n  warnings.warn(\"p-value may not be accurate for N > 5000.\")\n"
     ]
    },
    {
     "output_type": "execute_result",
     "data": {
      "text/plain": [
       "ShapiroResult(statistic=0.6315157413482666, pvalue=0.0)"
      ]
     },
     "metadata": {},
     "execution_count": 27
    }
   ],
   "source": [
    "shapiro(groupB)"
   ]
  },
  {
   "cell_type": "code",
   "execution_count": 24,
   "metadata": {},
   "outputs": [
    {
     "output_type": "stream",
     "name": "stderr",
     "text": [
      "/opt/anaconda3/envs/sl_app/lib/python3.8/site-packages/scipy/stats/morestats.py:1681: UserWarning: p-value may not be accurate for N > 5000.\n  warnings.warn(\"p-value may not be accurate for N > 5000.\")\n"
     ]
    }
   ],
   "source": [
    "# Assumption: Normality\n",
    "ntA = shapiro(groupA)[1] < 0.05\n",
    "ntB = shapiro(groupB)[1] < 0.05\n",
    "\n",
    "# H0: Distribution is Normal! - False\n",
    "# H1: Distribution is not Normal! - True"
   ]
  },
  {
   "source": [
    "#### Mann-Whitney rank test"
   ],
   "cell_type": "markdown",
   "metadata": {}
  },
  {
   "source": [
    "The Mann–Whitney U test (also called the Mann–Whitney–Wilcoxon (MWW), Wilcoxon rank-sum test, or Wilcoxon–Mann–Whitney test) is a **`nonparametric`** test:\n",
    "\n",
    "* `H_0`: null hypothesis that, for randomly selected values X and Y from two populations, the probability of X being greater than Y is equal to the probability of Y being greater than X.\n",
    "* `H_A`: alternative hypothesis that, for randomly selected values X and Y from two populations, the probability of X being greater than Y is **not** equal to the probability of Y being greater than X.\n",
    "\n",
    "In our case, p-value < 0.05, we reject the null hypothesis."
   ],
   "cell_type": "markdown",
   "metadata": {}
  },
  {
   "cell_type": "code",
   "execution_count": 28,
   "metadata": {},
   "outputs": [
    {
     "output_type": "execute_result",
     "data": {
      "text/plain": [
       "MannwhitneyuResult(statistic=1010642683.0, pvalue=0.03696119270061944)"
      ]
     },
     "metadata": {},
     "execution_count": 28
    }
   ],
   "source": [
    "stats.mannwhitneyu(groupA, groupB)"
   ]
  },
  {
   "cell_type": "code",
   "execution_count": null,
   "metadata": {},
   "outputs": [],
   "source": [
    "# Non-Parametric Test\n",
    "ttest = stats.mannwhitneyu(groupA, groupB)[1] \n",
    "\n",
    "# H0: M1 == M2 - False\n",
    "# H1: M1 != M2 - True"
   ]
  },
  {
   "source": [
    "#### A/B Testing function"
   ],
   "cell_type": "markdown",
   "metadata": {}
  },
  {
   "cell_type": "code",
   "execution_count": 30,
   "metadata": {},
   "outputs": [],
   "source": [
    "# A/B Testing Function - Quick Solution\n",
    "def AB_Test(dataframe, group, target):\n",
    "    \n",
    "    # Packages\n",
    "    from scipy.stats import shapiro\n",
    "    import scipy.stats as stats\n",
    "    \n",
    "    # Split A/B\n",
    "    groupA = dataframe[dataframe[group] == \"gate_30\"][target]\n",
    "    groupB = dataframe[dataframe[group] == \"gate_40\"][target]\n",
    "    \n",
    "    # Assumption: Normality\n",
    "    ntA = shapiro(groupA)[1] < 0.05\n",
    "    ntB = shapiro(groupB)[1] < 0.05\n",
    "    # H0: Distribution is Normal! - False\n",
    "    # H1: Distribution is not Normal! - True\n",
    "    \n",
    "    if (ntA == False) & (ntB == False): # \"H0: Normal Distribution\"\n",
    "        # Parametric Test\n",
    "        # Assumption: Homogeneity of variances\n",
    "        leveneTest = stats.levene(groupA, groupB)[1] < 0.05\n",
    "        # H0: Homogeneity: False\n",
    "        # H1: Heterogeneous: True\n",
    "        \n",
    "        if leveneTest == False:\n",
    "            # Homogeneity\n",
    "            ttest = stats.ttest_ind(groupA, groupB, equal_var=True)[1]\n",
    "            # H0: M1 == M2 - False\n",
    "            # H1: M1 != M2 - True\n",
    "        else:\n",
    "            # Heterogeneous\n",
    "            ttest = stats.ttest_ind(groupA, groupB, equal_var=False)[1]\n",
    "            # H0: M1 == M2 - False\n",
    "            # H1: M1 != M2 - True\n",
    "    else:\n",
    "        # Non-Parametric Test\n",
    "        ttest = stats.mannwhitneyu(groupA, groupB)[1] \n",
    "        # H0: M1 == M2 - False\n",
    "        # H1: M1 != M2 - True\n",
    "        \n",
    "    # Result\n",
    "    temp = pd.DataFrame({\n",
    "        \"AB Hypothesis\":[ttest < 0.05], \n",
    "        \"p-value\":[ttest]\n",
    "    })\n",
    "    temp[\"Test Type\"] = np.where((ntA == False) & (ntB == False), \"Parametric\", \"Non-Parametric\")\n",
    "    temp[\"AB Hypothesis\"] = np.where(temp[\"AB Hypothesis\"] == False, \"Fail to Reject H0\", \"Reject H0\")\n",
    "    temp[\"Comment\"] = np.where(temp[\"AB Hypothesis\"] == \"Fail to Reject H0\", \"A/B groups are similar!\", \"A/B groups are not similar!\")\n",
    "    \n",
    "    # Columns\n",
    "    if (ntA == False) & (ntB == False):\n",
    "        temp[\"Homogeneity\"] = np.where(leveneTest == False, \"Yes\", \"No\")\n",
    "        temp = temp[[\"Test Type\", \"Homogeneity\",\"AB Hypothesis\", \"p-value\", \"Comment\"]]\n",
    "    else:\n",
    "        temp = temp[[\"Test Type\",\"AB Hypothesis\", \"p-value\", \"Comment\"]]\n",
    "    \n",
    "    # Print Hypothesis\n",
    "    print(\"# A/B Testing Hypothesis\")\n",
    "    print(\"H0: A == B\")\n",
    "    print(\"H1: A != B\", \"\\n\")\n",
    "    \n",
    "    return temp"
   ]
  },
  {
   "cell_type": "code",
   "execution_count": 31,
   "metadata": {},
   "outputs": [
    {
     "output_type": "stream",
     "name": "stdout",
     "text": [
      "# A/B Testing Hypothesis\n",
      "H0: A == B\n",
      "H1: A != B \n",
      "\n",
      "/opt/anaconda3/envs/sl_app/lib/python3.8/site-packages/scipy/stats/morestats.py:1681: UserWarning: p-value may not be accurate for N > 5000.\n",
      "  warnings.warn(\"p-value may not be accurate for N > 5000.\")\n"
     ]
    },
    {
     "output_type": "execute_result",
     "data": {
      "text/plain": [
       "        Test Type AB Hypothesis   p-value                      Comment\n",
       "0  Non-Parametric     Reject H0  0.025446  A/B groups are not similar!"
      ],
      "text/html": "<div>\n<style scoped>\n    .dataframe tbody tr th:only-of-type {\n        vertical-align: middle;\n    }\n\n    .dataframe tbody tr th {\n        vertical-align: top;\n    }\n\n    .dataframe thead th {\n        text-align: right;\n    }\n</style>\n<table border=\"1\" class=\"dataframe\">\n  <thead>\n    <tr style=\"text-align: right;\">\n      <th></th>\n      <th>Test Type</th>\n      <th>AB Hypothesis</th>\n      <th>p-value</th>\n      <th>Comment</th>\n    </tr>\n  </thead>\n  <tbody>\n    <tr>\n      <th>0</th>\n      <td>Non-Parametric</td>\n      <td>Reject H0</td>\n      <td>0.025446</td>\n      <td>A/B groups are not similar!</td>\n    </tr>\n  </tbody>\n</table>\n</div>"
     },
     "metadata": {},
     "execution_count": 31
    }
   ],
   "source": [
    "AB_Test(dataframe=df, group = \"version\", target = \"sum_gamerounds\")"
   ]
  },
  {
   "cell_type": "code",
   "execution_count": 32,
   "metadata": {},
   "outputs": [
    {
     "output_type": "stream",
     "name": "stdout",
     "text": [
      "# A/B Testing Hypothesis\n",
      "H0: A == B\n",
      "H1: A != B \n",
      "\n",
      "/opt/anaconda3/envs/sl_app/lib/python3.8/site-packages/scipy/stats/morestats.py:1681: UserWarning: p-value may not be accurate for N > 5000.\n",
      "  warnings.warn(\"p-value may not be accurate for N > 5000.\")\n"
     ]
    },
    {
     "output_type": "execute_result",
     "data": {
      "text/plain": [
       "        Test Type AB Hypothesis   p-value                      Comment\n",
       "0  Non-Parametric     Reject H0  0.036961  A/B groups are not similar!"
      ],
      "text/html": "<div>\n<style scoped>\n    .dataframe tbody tr th:only-of-type {\n        vertical-align: middle;\n    }\n\n    .dataframe tbody tr th {\n        vertical-align: top;\n    }\n\n    .dataframe thead th {\n        text-align: right;\n    }\n</style>\n<table border=\"1\" class=\"dataframe\">\n  <thead>\n    <tr style=\"text-align: right;\">\n      <th></th>\n      <th>Test Type</th>\n      <th>AB Hypothesis</th>\n      <th>p-value</th>\n      <th>Comment</th>\n    </tr>\n  </thead>\n  <tbody>\n    <tr>\n      <th>0</th>\n      <td>Non-Parametric</td>\n      <td>Reject H0</td>\n      <td>0.036961</td>\n      <td>A/B groups are not similar!</td>\n    </tr>\n  </tbody>\n</table>\n</div>"
     },
     "metadata": {},
     "execution_count": 32
    }
   ],
   "source": [
    "AB_Test(dataframe=df, group = \"version\", target = \"retention_1\")"
   ]
  },
  {
   "cell_type": "code",
   "execution_count": 33,
   "metadata": {},
   "outputs": [
    {
     "output_type": "stream",
     "name": "stdout",
     "text": [
      "# A/B Testing Hypothesis\n",
      "H0: A == B\n",
      "H1: A != B \n",
      "\n",
      "/opt/anaconda3/envs/sl_app/lib/python3.8/site-packages/scipy/stats/morestats.py:1681: UserWarning: p-value may not be accurate for N > 5000.\n",
      "  warnings.warn(\"p-value may not be accurate for N > 5000.\")\n"
     ]
    },
    {
     "output_type": "execute_result",
     "data": {
      "text/plain": [
       "        Test Type AB Hypothesis   p-value                      Comment\n",
       "0  Non-Parametric     Reject H0  0.000796  A/B groups are not similar!"
      ],
      "text/html": "<div>\n<style scoped>\n    .dataframe tbody tr th:only-of-type {\n        vertical-align: middle;\n    }\n\n    .dataframe tbody tr th {\n        vertical-align: top;\n    }\n\n    .dataframe thead th {\n        text-align: right;\n    }\n</style>\n<table border=\"1\" class=\"dataframe\">\n  <thead>\n    <tr style=\"text-align: right;\">\n      <th></th>\n      <th>Test Type</th>\n      <th>AB Hypothesis</th>\n      <th>p-value</th>\n      <th>Comment</th>\n    </tr>\n  </thead>\n  <tbody>\n    <tr>\n      <th>0</th>\n      <td>Non-Parametric</td>\n      <td>Reject H0</td>\n      <td>0.000796</td>\n      <td>A/B groups are not similar!</td>\n    </tr>\n  </tbody>\n</table>\n</div>"
     },
     "metadata": {},
     "execution_count": 33
    }
   ],
   "source": [
    "AB_Test(dataframe=df, group = \"version\", target = \"retention_7\")"
   ]
  }
 ]
}